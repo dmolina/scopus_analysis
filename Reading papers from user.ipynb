{
 "cells": [
  {
   "cell_type": "markdown",
   "metadata": {},
   "source": [
    "# Getting information from Scopus"
   ]
  },
  {
   "cell_type": "markdown",
   "metadata": {},
   "source": [
    "**Note**: This work is obtained from http://kitchingroup.cheme.cmu.edu/blog/2015/04/03/Getting-data-from-the-Scopus-API/, its author is really the author of that information. I have mainly put in a more useful way."
   ]
  },
  {
   "cell_type": "markdown",
   "metadata": {},
   "source": [
    "The access to Scopus API is restricted. First, you need a Elseview-API. You can obtain one from http://dev.elsevier.com/myapikey.html. \n",
    "\n",
    "In my case, because I have access by a Proxy (and using a VPN, but it is transparent) I also need a PROXY_URL. That both information are not in the repository because they are personal and private. You should create your own my_scopus.py file to run that code without changes."
   ]
  },
  {
   "cell_type": "code",
   "execution_count": 5,
   "metadata": {
    "collapsed": true
   },
   "outputs": [],
   "source": [
    "import requests\n",
    "import json\n",
    "from my_scopus import MY_API_KEY, PROXY_URL, MY_AUTHOR_ID"
   ]
  },
  {
   "cell_type": "markdown",
   "metadata": {},
   "source": [
    "First, we define a function to access to the information"
   ]
  },
  {
   "cell_type": "code",
   "execution_count": 24,
   "metadata": {
    "collapsed": false
   },
   "outputs": [],
   "source": [
    "def scopus_get_info_api(url, proxy=PROXY_URL):\n",
    "    \"\"\"\n",
    "    Returns the information obtained by the Elseview API\n",
    "    \"\"\"\n",
    "    proxies = {\n",
    "        \"http\": PROXY_URL\n",
    "    }\n",
    "\n",
    "    resp = requests.get(\"http://api.elsevier.com/content/\" +url,\n",
    "                    headers={'Accept':'application/json',\n",
    "                             'X-ELS-APIKey': MY_API_KEY}, proxies=proxies)\n",
    "    return resp.json()"
   ]
  },
  {
   "cell_type": "markdown",
   "metadata": {},
   "source": [
    "Then, a util function to show the information"
   ]
  },
  {
   "cell_type": "code",
   "execution_count": null,
   "metadata": {
    "collapsed": true
   },
   "outputs": [],
   "source": [
    "def print_json(resp_json):\n",
    "    print(json.dumps(resp_json,\n",
    "                 sort_keys=True,\n",
    "                 indent=4, separators=(',', ': ')))"
   ]
  },
  {
   "cell_type": "markdown",
   "metadata": {},
   "source": [
    "A function that return the information of the author."
   ]
  },
  {
   "cell_type": "code",
   "execution_count": 46,
   "metadata": {
    "collapsed": true
   },
   "outputs": [],
   "source": [
    "def scopus_get_author(author_id):\n",
    "    msg = \"author?author_id={}&view=metrics\".format(author_id)\n",
    "    resp = scopus_get_info_api(msg)\n",
    "    return resp['author-retrieval-response'][0]"
   ]
  },
  {
   "cell_type": "markdown",
   "metadata": {},
   "source": [
    "Example, to obtain my h-index"
   ]
  },
  {
   "cell_type": "code",
   "execution_count": 52,
   "metadata": {
    "collapsed": false
   },
   "outputs": [
    {
     "name": "stdout",
     "output_type": "stream",
     "text": [
      "{\n",
      "    \"@_fa\": \"true\",\n",
      "    \"@status\": \"found\",\n",
      "    \"coauthor-count\": \"26\",\n",
      "    \"coredata\": {\n",
      "        \"citation-count\": \"1235\",\n",
      "        \"cited-by-count\": \"1041\",\n",
      "        \"dc:identifier\": \"AUTHOR_ID:22135567700\",\n",
      "        \"document-count\": \"32\",\n",
      "        \"prism:url\": \"http://api.elsevier.com/content/author/author_id/22135567700\"\n",
      "    },\n",
      "    \"h-index\": \"10\"\n",
      "}\n",
      "My automatic h_index is 10\n"
     ]
    }
   ],
   "source": [
    "author_info = scopus_get_author(MY_AUTHOR_ID)\n",
    "print_json(author_info)\n",
    "h_index = author_info['h-index']\n",
    "print(\"My automatic h_index is {}\".format(h_index))"
   ]
  },
  {
   "cell_type": "markdown",
   "metadata": {},
   "source": [
    "Now, we are going to "
   ]
  }
 ],
 "metadata": {
  "kernelspec": {
   "display_name": "Python 3",
   "language": "python",
   "name": "python3"
  },
  "language_info": {
   "codemirror_mode": {
    "name": "ipython",
    "version": 3
   },
   "file_extension": ".py",
   "mimetype": "text/x-python",
   "name": "python",
   "nbconvert_exporter": "python",
   "pygments_lexer": "ipython3",
   "version": "3.4.3"
  }
 },
 "nbformat": 4,
 "nbformat_minor": 0
}
