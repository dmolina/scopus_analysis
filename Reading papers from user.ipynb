{
 "cells": [
  {
   "cell_type": "markdown",
   "metadata": {},
   "source": [
    "# Getting information from Scopus"
   ]
  },
  {
   "cell_type": "markdown",
   "metadata": {},
   "source": [
    "**Note**: This work is obtained from http://kitchingroup.cheme.cmu.edu/blog/2015/04/03/Getting-data-from-the-Scopus-API/, its author is really the author of that information. I have mainly put in a more useful way."
   ]
  },
  {
   "cell_type": "markdown",
   "metadata": {},
   "source": [
    "The access to Scopus API is restricted. First, you need a Elseview-API. You can obtain one from http://dev.elsevier.com/myapikey.html. \n",
    "\n",
    "In my case, because I have access by a Proxy (and using a VPN, but it is transparent) I also need a PROXY_URL. That both information are not in the repository because they are personal and private. You should create your own my_scopus.py file to run that code without changes."
   ]
  },
  {
   "cell_type": "code",
   "execution_count": 1,
   "metadata": {
    "collapsed": true
   },
   "outputs": [],
   "source": [
    "import requests\n",
    "import json\n",
    "from my_scopus import MY_API_KEY, PROXY_URL, MY_AUTHOR_ID"
   ]
  },
  {
   "cell_type": "markdown",
   "metadata": {},
   "source": [
    "First, we define a function to access to the information"
   ]
  },
  {
   "cell_type": "code",
   "execution_count": 2,
   "metadata": {
    "collapsed": false
   },
   "outputs": [],
   "source": [
    "def scopus_get_info_api(url, proxy=PROXY_URL,*,json=True):\n",
    "    \"\"\"\n",
    "    Returns the information obtained by the Elseview API\n",
    "    \"\"\"\n",
    "    proxies = {\n",
    "        \"http\": PROXY_URL\n",
    "    }\n",
    "\n",
    "    resp = requests.get(\"http://api.elsevier.com/content/\" +url,\n",
    "                    headers={'Accept':'application/json',\n",
    "                             'X-ELS-APIKey': MY_API_KEY}, proxies=proxies)\n",
    "    if json:\n",
    "        return resp.json()\n",
    "    else:\n",
    "        return resp.text.encode('utf-8')"
   ]
  },
  {
   "cell_type": "markdown",
   "metadata": {},
   "source": [
    "Then, a util function to show the information"
   ]
  },
  {
   "cell_type": "code",
   "execution_count": 3,
   "metadata": {
    "collapsed": true
   },
   "outputs": [],
   "source": [
    "def print_json(resp_json):\n",
    "    print(json.dumps(resp_json,\n",
    "                 sort_keys=True,\n",
    "                 indent=4, separators=(',', ': ')))"
   ]
  },
  {
   "cell_type": "markdown",
   "metadata": {},
   "source": [
    "A function that return the information of the author."
   ]
  },
  {
   "cell_type": "markdown",
   "metadata": {},
   "source": [
    "## Obtaining Author info"
   ]
  },
  {
   "cell_type": "code",
   "execution_count": 4,
   "metadata": {
    "collapsed": true
   },
   "outputs": [],
   "source": [
    "def scopus_get_author(author_id):\n",
    "    msg = \"author?author_id={}&view=metrics\".format(author_id)\n",
    "    resp = scopus_get_info_api(msg)\n",
    "    return resp['author-retrieval-response'][0]"
   ]
  },
  {
   "cell_type": "markdown",
   "metadata": {},
   "source": [
    "Example, to obtain my h-index"
   ]
  },
  {
   "cell_type": "code",
   "execution_count": 5,
   "metadata": {
    "collapsed": false
   },
   "outputs": [
    {
     "name": "stdout",
     "output_type": "stream",
     "text": [
      "{\n",
      "    \"@_fa\": \"true\",\n",
      "    \"@status\": \"found\",\n",
      "    \"coauthor-count\": \"26\",\n",
      "    \"coredata\": {\n",
      "        \"citation-count\": \"1235\",\n",
      "        \"cited-by-count\": \"1041\",\n",
      "        \"dc:identifier\": \"AUTHOR_ID:22135567700\",\n",
      "        \"document-count\": \"32\",\n",
      "        \"prism:url\": \"http://api.elsevier.com/content/author/author_id/22135567700\"\n",
      "    },\n",
      "    \"h-index\": \"10\"\n",
      "}\n",
      "My automatic h_index is 10\n"
     ]
    }
   ],
   "source": [
    "author_info = scopus_get_author(MY_AUTHOR_ID)\n",
    "print_json(author_info)\n",
    "h_index = author_info['h-index']\n",
    "print(\"My automatic h_index is {}\".format(h_index))"
   ]
  },
  {
   "cell_type": "markdown",
   "metadata": {},
   "source": [
    "## Obtaining list of references"
   ]
  },
  {
   "cell_type": "markdown",
   "metadata": {},
   "source": [
    "Now, we are going to extract the list of published papers."
   ]
  },
  {
   "cell_type": "code",
   "execution_count": 6,
   "metadata": {
    "collapsed": true
   },
   "outputs": [],
   "source": [
    "def scopus_search_list(query, field, max=100):\n",
    "    msg = \"search/scopus?query={}&nofield={}&count={}\".format(query, field, max)\n",
    "    resp = scopus_get_info_api(msg)['search-results']\n",
    "    list = []\n",
    "    \n",
    "    if resp['entry']:\n",
    "        list = resp['entry']\n",
    "        \n",
    "    return list"
   ]
  },
  {
   "cell_type": "code",
   "execution_count": 7,
   "metadata": {
    "collapsed": false
   },
   "outputs": [],
   "source": [
    "def scopus_papers_from_author(author_id, *, max=100):\n",
    "    \"\"\"\n",
    "    Return the list of papers from the author\n",
    "    \"\"\"\n",
    "    query = \"AU-ID({})\".format(author_id)\n",
    "    field = \"dc:identifier\"\n",
    "    \n",
    "    list = scopus_search_list(query, field, max)\n",
    "    #print_json(list)\n",
    "    \n",
    "    def get_type(code):\n",
    "        if code in ['ar','re', 'ed', 'ip']:\n",
    "            return 'article'\n",
    "        elif code == 'cp':\n",
    "            return 'congress'\n",
    "        else:\n",
    "            return code\n",
    "        \n",
    "    return [{'id': info['dc:identifier'], \n",
    "             'title': info['dc:title'], \n",
    "             'url': info['prism:url'], \n",
    "            'citations': int(info['citedby-count']), \n",
    "            'type': get_type(info['subtype']), \n",
    "             'year': info['prism:coverDate'][:4], \n",
    "            'journal': info['prism:publicationName']} for info in list]"
   ]
  },
  {
   "cell_type": "code",
   "execution_count": 8,
   "metadata": {
    "collapsed": false
   },
   "outputs": [
    {
     "name": "stdout",
     "output_type": "stream",
     "text": [
      "33 papers\n"
     ]
    }
   ],
   "source": [
    "papers = scopus_papers_from_author(MY_AUTHOR_ID)\n",
    "print('{} papers'.format(len(papers)))"
   ]
  },
  {
   "cell_type": "markdown",
   "metadata": {},
   "source": [
    "## Translate to pandas"
   ]
  },
  {
   "cell_type": "code",
   "execution_count": 9,
   "metadata": {
    "collapsed": true
   },
   "outputs": [],
   "source": [
    "import pandas as pd"
   ]
  },
  {
   "cell_type": "code",
   "execution_count": 10,
   "metadata": {
    "collapsed": false
   },
   "outputs": [
    {
     "name": "stdout",
     "output_type": "stream",
     "text": [
      "   citations                     id  \\\n",
      "0          0  SCOPUS_ID:84930999593   \n",
      "1          2  SCOPUS_ID:84922590736   \n",
      "2          0  SCOPUS_ID:84919727129   \n",
      "3          4  SCOPUS_ID:84892553248   \n",
      "4          0  SCOPUS_ID:84908587588   \n",
      "\n",
      "                                             journal  \\\n",
      "0  International Journal of Computational Intelli...   \n",
      "1                               Information Sciences   \n",
      "2                     Applied Soft Computing Journal   \n",
      "3                               Information Sciences   \n",
      "4  Proceedings of the 2014 IEEE Congress on Evolu...   \n",
      "\n",
      "                                               title      type  \\\n",
      "0  A Walk into Metaheuristics for Engineering Opt...   article   \n",
      "1  A high performance memetic algorithm for extre...   article   \n",
      "2  Performance evaluation of automatically tuned ...   article   \n",
      "3  Region based memetic algorithm for real-parame...   article   \n",
      "4  Influence of regions on the memetic algorithm ...  congress   \n",
      "\n",
      "                                                 url  year  \n",
      "0  http://api.elsevier.com/content/abstract/scopu...  2015  \n",
      "1  http://api.elsevier.com/content/abstract/scopu...  2015  \n",
      "2  http://api.elsevier.com/content/abstract/scopu...  2015  \n",
      "3  http://api.elsevier.com/content/abstract/scopu...  2014  \n",
      "4  http://api.elsevier.com/content/abstract/scopu...  2014  \n"
     ]
    }
   ],
   "source": [
    "df = pd.DataFrame.from_dict(papers)\n",
    "print(df.head())"
   ]
  },
  {
   "cell_type": "markdown",
   "metadata": {},
   "source": [
    "### Ploting results"
   ]
  },
  {
   "cell_type": "code",
   "execution_count": 11,
   "metadata": {
    "collapsed": false
   },
   "outputs": [],
   "source": [
    "papers_journal = df[df['type']=='article']\n",
    "citations = papers_journal.groupby(['year']).sum()"
   ]
  },
  {
   "cell_type": "code",
   "execution_count": 12,
   "metadata": {
    "collapsed": false
   },
   "outputs": [
    {
     "name": "stdout",
     "output_type": "stream",
     "text": [
      "Populating the interactive namespace from numpy and matplotlib\n"
     ]
    }
   ],
   "source": [
    "%pylab inline\n",
    "from matplotlib import pyplot as plt\n",
    "import seaborn as sns\n",
    "sns.set()"
   ]
  },
  {
   "cell_type": "code",
   "execution_count": 13,
   "metadata": {
    "collapsed": false
   },
   "outputs": [
    {
     "data": {
      "text/plain": [
       "<matplotlib.text.Text at 0x7f6ad1f94748>"
      ]
     },
     "execution_count": 13,
     "metadata": {},
     "output_type": "execute_result"
    },
    {
     "data": {
      "image/png": "[encoded data removed]",
      "text/plain": [
       "<matplotlib.figure.Figure at 0x7f6ad2661208>"
      ]
     },
     "metadata": {},
     "output_type": "display_data"
    }
   ],
   "source": [
    "ax = citations.plot(kind='bar', legend=None)\n",
    "ax.set_xlabel('Year')\n",
    "ax.set_ylabel('Citations')"
   ]
  },
  {
   "cell_type": "markdown",
   "metadata": {},
   "source": [
    "### Get complete reference of a paper"
   ]
  },
  {
   "cell_type": "code",
   "execution_count": 14,
   "metadata": {
    "collapsed": false
   },
   "outputs": [
    {
     "name": "stdout",
     "output_type": "stream",
     "text": [
      "Garcia S., Molina D., Lozano M., Herrera F., A study on the use of non-parametric tests for analyzing the evolutionary algorithms' behaviour: A case study on the CEC'2005 Special Session on Real Parameter Optimization, Journal of Heuristics, 15, 617-644, (2009-12-01). doi:10.1007/s10732-008-9080-4 (cited 381 times).\n",
      "\n",
      "Derrac J., Garcia S., Molina D., Herrera F., A practical tutorial on the use of nonparametric statistical tests as a methodology for comparing evolutionary and swarm intelligence algorithms, Swarm and Evolutionary Computation, 1, 3-18, (2011-03-01). doi:10.1016/j.swevo.2011.02.002 (cited 346 times).\n",
      "\n",
      "Lozano M., Herrera F., Krasnogor N., Molina D., Real-coded memetic algorithms with crossover hill-climbing, Evolutionary Computation, 12, 273-302, (2004-09-01). doi:10.1162/1063656041774983 (cited 173 times).\n",
      "\n",
      "Garcia-Martinez C., Lozano M., Herrera F., Molina D., Sanchez A.M., Global and local real-coded genetic algorithms based on parent-centric crossover operators, European Journal of Operational Research, 185, 1088-1113, (2008-03-16). doi:10.1016/j.ejor.2006.06.043 (cited 82 times).\n",
      "\n",
      "Molina D., Lozano M., Garcia-Martinez C., Herrera F., Memetic algorithms for continuous optimisation based on local search chains, Evolutionary Computation, 18, 27-63, (2010-03-12). doi:10.1162/evco.2010.18.1.18102 (cited 76 times).\n",
      "\n",
      "Molina D., Herrera F., Lozano M., Adaptive local search parameters for real-coded memetic algorithms, 2005 IEEE Congress on Evolutionary Computation, IEEE CEC 2005. Proceedings, 1, 888-895, (2005-10-31). doi:NA (cited 47 times).\n",
      "\n",
      "Herrera F., Lozano M., Molina D., Continuous scatter search: An analysis of the integration of some combination methods and improvement strategies, European Journal of Operational Research, 169, 450-476, (2006-03-01). doi:10.1016/j.ejor.2004.08.009 (cited 41 times).\n",
      "\n",
      "Lozano M., Molina D., Herrera F., Editorial scalability of evolutionary algorithms and other metaheuristics for large-scale continuous optimization problems, Soft Computing, 15, 2085-2087, (2011-11-01). doi:10.1007/s00500-010-0639-2 (cited 40 times).\n",
      "\n",
      "Lozano M., Molina D., Garcia-Martinez C., Iterated greedy for the maximum diversity problem, European Journal of Operational Research, 214, 31-38, (2011-10-01). doi:10.1016/j.ejor.2011.04.018 (cited 24 times).\n",
      "\n",
      "Molina D., Lozano M., Sanchez A.M., Herrera F., Memetic algorithms based on local search chains for large scale continuous optimisation problems: MA-SSW-Chains, Soft Computing, 15, 2201-2220, (2011-11-01). doi:10.1007/s00500-010-0647-2 (cited 17 times).\n",
      "\n",
      "Molina D., Lozano M., Herrer F., Memetic algorithm with local search chaining for large scale continuous optimization problems, 2009 IEEE Congress on Evolutionary Computation, CEC 2009, 1, 830-837, (2009-11-25). doi:10.1109/CEC.2009.4983031 (cited 10 times).\n",
      "\n",
      "Molina D., Lozano M., Herrera F., Memetic algorithm with local search chaining for continuous optimization problems: A scalability test, ISDA 2009 - 9th International Conference on Intelligent Systems Design and Applications, 1, 1068-1073, (2009-12-01). doi:10.1109/ISDA.2009.143 (cited 9 times).\n",
      "\n",
      "Puris A., Bello R., Molina D., Herrera F., Variable mesh optimization for continuous optimization problems, Soft Computing, 16, 511-525, (2012-03-01). doi:10.1007/s00500-011-0753-9 (cited 8 times).\n",
      "\n",
      "Garcia-Martinez C., Lozano M., Molina D., A local genetic algorithm for binary-coded problems, Lecture Notes in Computer Science (including subseries Lecture Notes in Artificial Intelligence and Lecture Notes in Bioinformatics), 4193 LNCS, 192-201, (2006-10-30). doi:NA (cited 5 times).\n",
      "\n",
      "Sanchez A.M., Lozano M., Garcia-Martinez C., Molina D., Herrera F., Real-parameter crossover operators with multiple descendents: An experimental study, International Journal of Intelligent Systems, 23, 246-268, (2008-02-01). doi:10.1002/int.20258 (cited 5 times).\n",
      "\n",
      "Bergmeir C., Triguero I., Molina D., Aznarte J.L., Benitez J.M., Time series modeling and forecasting using memetic algorithms for regime-switching models, IEEE Transactions on Neural Networks and Learning Systems, 23, 1841-1847, (2012-12-01). doi:10.1109/TNNLS.2012.2216898 (cited 4 times).\n",
      "\n",
      "Lacroix B., Molina D., Herrera F., Dynamically updated region based memetic algorithm for the 2013 CEC Special Session and Competition on Real Parameter Single Objective Optimization, 2013 IEEE Congress on Evolutionary Computation, CEC 2013, 1, 1945-1951, (2013-08-21). doi:10.1109/CEC.2013.6557797 (cited 4 times).\n",
      "\n",
      "Lacroix B., Molina D., Herrera F., Region based memetic algorithm for real-parameter optimisation, Information Sciences, 262, 15-31, (2014-03-20). doi:10.1016/j.ins.2013.11.032 (cited 4 times).\n",
      "\n",
      "Molina D., Lozano M., Garcia-Martinez C., Herrera F., Memetic algorithm for intense local search methods using local search chains, Lecture Notes in Computer Science (including subseries Lecture Notes in Artificial Intelligence and Lecture Notes in Bioinformatics), 5296 LNCS, 58-71, (2008-12-08). doi:10.1007/978-3-540-88439-2-5 (cited 2 times).\n",
      "\n",
      "Lastra M., Molina D., Benitez J.M., A high performance memetic algorithm for extremely high-dimensional problems, Information Sciences, 293, 35-58, (2015-01-01). doi:10.1016/j.ins.2014.09.018 (cited 2 times).\n",
      "\n",
      "Molina D., Puris A., Bello R., Herrera F., Variable mesh optimization for the 2013 CEC Special Session Niching Methods for Multimodal Optimization, 2013 IEEE Congress on Evolutionary Computation, CEC 2013, 1, 87-94, (2013-08-21). doi:10.1109/CEC.2013.6557557 (cited 1 times).\n",
      "\n",
      "Aznarte J.L., Molina D., Sanchez A.M., Benitez J.M., A test for the homoscedasticity of the residuals in fuzzy rule-based forecasters, Applied Intelligence, 34, 386-393, (2011-06-01). doi:10.1007/s10489-011-0288-x (cited 1 times).\n",
      "\n",
      "Liao T., Molina D., de Oca M.A.M., Stutzle T., A Note on Bound Constraints Handling for the IEEE CEC'05 Benchmark Function Suite, Evolutionary Computation, 22, 351-359, (2014-01-01). doi:10.1162/EVCO_a_00120 (cited 1 times).\n",
      "\n",
      "Molina D., Lacroix B., Herrera F., Influence of regions on the memetic algorithm for the CEC'2014 Special Session on Real-Parameter Single Objective Optimisation, Proceedings of the 2014 IEEE Congress on Evolutionary Computation, CEC 2014, 1, 1633-1640, (2014-01-01). doi:10.1109/CEC.2014.6900536 (cited 0 times).\n",
      "\n",
      "Liao T., Molina D., Stutzle T., Performance evaluation of automatically tuned continuous optimizers on different benchmark sets, Applied Soft Computing Journal, 27, 490-503, (2015-01-01). doi:10.1016/j.asoc.2014.11.006 (cited 0 times).\n",
      "\n",
      "Molina D., Lozano M., Herrera F., MA-SW-Chains: Memetic algorithm based on local search chains for large scale continuous global optimization, 2010 IEEE World Congress on Computational Intelligence, WCCI 2010 - 2010 IEEE Congress on Evolutionary Computation, CEC 2010, 1, 5586034, (2010-12-01). doi:10.1109/CEC.2010.5586034 (cited 0 times).\n",
      "\n",
      "Molina D., Lozano M., Herrera F., Study of the influence of the local search method in memetic algorithms for large scale continuous optimization problems, Lecture Notes in Computer Science (including subseries Lecture Notes in Artificial Intelligence and Lecture Notes in Bioinformatics), 5851 LNCS, 221-234, (2009-12-29). doi:10.1007/978-3-642-11169-3_16 (cited 0 times).\n",
      "\n",
      "Lacroix B., Molina D., Herrera F., Region based memetic algorithm with LS chaining, 2012 IEEE Congress on Evolutionary Computation, CEC 2012, 1, 6256529, (2012-10-04). doi:10.1109/CEC.2012.6256529 (cited 0 times).\n",
      "\n",
      "Marin J., Molina D., Herrera F., Modeling dynamics of a real-coded CHC algorithm in terms of dynamical probability distributions, Soft Computing, 16, 331-351, (2012-02-01). doi:10.1007/s00500-011-0745-9 (cited 0 times).\n",
      "\n",
      "Lozano M., Rodriguez F.J., Garcia-Martinez C., Molina D., Adaptive GRASP for the maximum diversity problem, Expert Systems with Applications, 1, None, (2012-02-07). doi:10.1016/j.eswa.2012.01.064 (cited 0 times).\n",
      "\n",
      "Liao T., Molina D., Stutzle T., Montes De Oca M.A., Dorigo M., An ACO algorithm benchmarked on the BBOB noiseless function testbed, GECCO'12 - Proceedings of the 14th International Conference on Genetic and Evolutionary Computation Companion, 1, 159-166, (2012-08-20). doi:10.1145/2330784.2330809 (cited 0 times).\n",
      "\n",
      "Puris A., Bello R., Molina D., Herrera F., Optimising real parameters using the information of a mesh of solutions: VMO algorithm, 2012 IEEE Congress on Evolutionary Computation, CEC 2012, 1, 6252873, (2012-10-04). doi:10.1109/CEC.2012.6252873 (cited 0 times).\n",
      "\n",
      "Xiong N., Molina D., Ortiz M.L., Herrera F., A Walk into Metaheuristics for Engineering Optimization: Principles, Methods and Recent Trends, International Journal of Computational Intelligence Systems, 8, 606-636, (2015-01-01). doi:10.1080/18756891.2015.1046324 (cited 0 times).\n",
      "\n"
     ]
    }
   ],
   "source": [
    "def get_scopus_info(SCOPUS_ID):\n",
    "    url = (\"abstract/scopus_id/\"\n",
    "          + SCOPUS_ID\n",
    "          + \"?field=authors,title,publicationName,volume,issueIdentifier,\"\n",
    "          + \"prism:pageRange,coverDate,article-number,doi,citedby-count,prism:aggregationType\")\n",
    "    \n",
    "    resp = scopus_get_info_api(url, json=True)\n",
    "    results = resp['abstracts-retrieval-response']\n",
    "    authors_info = results['authors']\n",
    "    info = results['coredata']\n",
    "\n",
    "    fstring = '{authors}, {title}, {journal}, {volume}, {articlenum}, ({date}). {doi} (cited {cites} times).\\n'\n",
    "    return fstring.format(authors=', '.join([au['ce:indexed-name'] for au in authors_info['author']]),\n",
    "                          title=info['dc:title'],\n",
    "                          journal=info['prism:publicationName'],\n",
    "                          volume=info.get('prism:volume') or 1,\n",
    "                          articlenum=info.get('prism:pageRange') or\n",
    "                            info.get('article-number'),\n",
    "                          date=info['prism:coverDate'],\n",
    "                          doi='doi:' +(info.get('prism:doi') or 'NA'),\n",
    "                        cites=int(info['citedby-count']))\n",
    "\n",
    "df_lasts = df[df['year']=='2015']\n",
    "\n",
    "for id in df.sort(['citations'], ascending=[0])['id']:\n",
    "    #print(\"id: '{}'\".format(id))\n",
    "    print(get_scopus_info(id))"
   ]
  },
  {
   "cell_type": "markdown",
   "metadata": {},
   "source": [
    "## List of journals in which I have published"
   ]
  },
  {
   "cell_type": "code",
   "execution_count": 29,
   "metadata": {
    "collapsed": false
   },
   "outputs": [
    {
     "name": "stdout",
     "output_type": "stream",
     "text": [
      "Applied Soft Computing Journal\n",
      "European Journal of Operational Research\n",
      "Evolutionary Computation\n",
      "Expert Systems with Applications\n",
      "IEEE Transactions on Neural Networks and Learning Systems\n",
      "Information Sciences\n",
      "International Journal of Computational Intelligence Systems\n",
      "Journal of Heuristics\n",
      "Soft Computing\n",
      "Swarm and Evolutionary Computation\n"
     ]
    }
   ],
   "source": [
    "revistas = sorted(set(papers_journal['journal']))\n",
    "for revista in revistas:\n",
    "    print(revista)"
   ]
  }
 ],
 "metadata": {
  "kernelspec": {
   "display_name": "Python 3",
   "language": "python",
   "name": "python3"
  },
  "language_info": {
   "codemirror_mode": {
    "name": "ipython",
    "version": 3
   },
   "file_extension": ".py",
   "mimetype": "text/x-python",
   "name": "python",
   "nbconvert_exporter": "python",
   "pygments_lexer": "ipython3",
   "version": "3.4.3"
  }
 },
 "nbformat": 4,
 "nbformat_minor": 0
}
